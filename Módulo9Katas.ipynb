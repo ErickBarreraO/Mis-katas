{
  "cells": [
    {
      "cell_type": "markdown",
      "metadata": {},
      "source": [
        "# Ejercicio: Uso de funciones en Python"
      ]
    },
    {
      "cell_type": "markdown",
      "metadata": {},
      "source": [
        "### Ejercicio 1: Trabajar con argumentos en funciones\n",
        "\n",
        "Los argumentos requeridos en las funciones se utilizan cuando las funciones necesitan que esos argumentos funcionen correctamente. En este ejercicio, construirás un informe de combustible que requiere información de varias ubicaciones de combustible en todo el cohete.\n",
        "\n"
      ]
    },
    {
      "cell_type": "markdown",
      "metadata": {},
      "source": [
        "> **TIP**\n",
        "> Dedica unos minutos para tratar de encontrar una solución. Luego desplázate hacia abajo hasta la parte inferior para ver si has logrado compilar el programa de acuerdo con las especificaciones\n",
        "\n",
        "Comienza por crear una función que necesite tres lecturas de combustible y devuelva un informe:"
      ]
    },
    {
      "cell_type": "code",
      "execution_count": 6,
      "metadata": {},
      "outputs": [],
      "source": [
        "# Función para leer 3 tanques de combustible y muestre el promedio\n",
        "def rocket_tanks(tank_1, tank_2, tank_3):\n",
        "    average=(tank_1+tank_2+tank_3)/3\n",
        "    return f\"\"\"Rocket_Tanks_Report \n",
        "    tank_1: {tank_1}\n",
        "    tank_2: {tank_2}\n",
        "    tank_3: {tank_3}\n",
        "    Average: {average}\n",
        "    \"\"\""
      ]
    },
    {
      "cell_type": "markdown",
      "metadata": {},
      "source": [
        "Ahora que hemos definido la función de informes, vamos a comprobarlo. Para esta misión, los tanques no están llenos:"
      ]
    },
    {
      "cell_type": "code",
      "execution_count": 7,
      "metadata": {},
      "outputs": [
        {
          "name": "stdout",
          "output_type": "stream",
          "text": [
            "Rocket_Tanks_Report \n",
            "    tank_1: 20\n",
            "    tank_2: 14\n",
            "    tank_3: 12\n",
            "    Average: 15.333333333333334\n",
            "    \n"
          ]
        }
      ],
      "source": [
        "\n",
        "# Llamamos a la función que genera el reporte print(funcion(tanque1, tanque2, tanque3))\n",
        "print(rocket_tanks(20,14,12))"
      ]
    },
    {
      "cell_type": "markdown",
      "metadata": {},
      "source": [
        "En lugar de simplemente crear el informe, la función también está calculando el promedio. Mejora la legibilidad extrayendo el cálculo promedio de la función en una nueva función para que el promedio se pueda hacer de forma independiente:"
      ]
    },
    {
      "cell_type": "code",
      "execution_count": 15,
      "metadata": {},
      "outputs": [],
      "source": [
        "# Función promedio \n",
        "def average(values):\n",
        "    suma= sum(values)\n",
        "    num_tanks= len(values)\n",
        "    return suma/num_tanks"
      ]
    },
    {
      "cell_type": "markdown",
      "metadata": {},
      "source": [
        "Ahora actualiza la función de informes para llamando a la nueva función del promedio:\n"
      ]
    },
    {
      "cell_type": "code",
      "execution_count": 20,
      "metadata": {},
      "outputs": [],
      "source": [
        "# Actualiza la función\n",
        "def rocket_tanks(tank_1, tank_2, tank_3):\n",
        "    return f\"\"\"Rocket_Tanks_Report \n",
        "    tank_1: {tank_1}\n",
        "    tank_2: {tank_2}\n",
        "    tank_3: {tank_3}\n",
        "    Average: {average([tank_1, tank_2, tank_3])}\n",
        "    \"\"\""
      ]
    },
    {
      "cell_type": "code",
      "execution_count": 21,
      "metadata": {},
      "outputs": [
        {
          "name": "stdout",
          "output_type": "stream",
          "text": [
            "Rocket_Tanks_Report \n",
            "    tank_1: 12\n",
            "    tank_2: 9\n",
            "    tank_3: 16\n",
            "    Average: 12.333333333333334\n",
            "    \n"
          ]
        }
      ],
      "source": [
        "print(rocket_tanks(12,9,16))"
      ]
    },
    {
      "cell_type": "markdown",
      "metadata": {},
      "source": [
        "> Recuerda: Lo importante es intentarlo, puedes auxiliarte de internet, libros, etc. El objetivo de una kata es la comprobación de la comprensión de la lección y su aplicación inmediata a la resolución de problemas. Go for it!"
      ]
    },
    {
      "cell_type": "markdown",
      "metadata": {},
      "source": [
        "## Ejercicio 2: Trabajo con argumentos de palabra clave"
      ]
    },
    {
      "cell_type": "markdown",
      "metadata": {},
      "source": [
        "### Ejercicio : Trabajar con argumentos de palabras clave en funciones\n",
        "En este ejercicio, construirás un informe de cohete que requiere varias piezas de información, como el tiempo hasta el destino, el combustible a la izquierda y el nombre del destino. Comienza por crear una función que creará un informe preciso de la misión:"
      ]
    },
    {
      "cell_type": "code",
      "execution_count": 26,
      "metadata": {},
      "outputs": [
        {
          "name": "stdout",
          "output_type": "stream",
          "text": [
            "Reporte_de_mision \n",
            "    Hora_de_prelanzamienot: 15 hr\n",
            "    Tiempo_de_vuelo: 200 mins\n",
            "    Destino: Marte\n",
            "    Tanque_externo: 100 %\n",
            "    Tanque_interno: 50 %\n",
            "    \n"
          ]
        }
      ],
      "source": [
        "# Función con un informe preciso de la misión. Considera hora de prelanzamiento, tiempo de vuelo, destino, tanque externo y tanque interno\n",
        "def rep_mision(hora_prelanzamiento, tiempo_de_vuelo, destino, tanque_externo, tanque_interno):\n",
        "    return f\"\"\"Reporte_de_mision \n",
        "    Hora_de_prelanzamienot: {hora_prelanzamiento} hr\n",
        "    Tiempo_de_vuelo: {tiempo_de_vuelo} mins\n",
        "    Destino: {destino}\n",
        "    Tanque_externo: {tanque_externo} %\n",
        "    Tanque_interno: {tanque_interno} %\n",
        "    \"\"\"\n",
        "print(rep_mision(15,200,\"Marte\",100,50))"
      ]
    },
    {
      "cell_type": "markdown",
      "metadata": {},
      "source": [
        "La función es problemática porque no se puede adaptar para minutos adicionales o tanques adicionales de combustible. Hazlo más flexible permitiendo cualquier número de pasos basados en el tiempo y cualquier número de tanques. En lugar de usar `*args` y `**kwargs`, aprovecha el hecho de que puedes usar cualquier nombre que desees. Asegurate que la función sea más legible mediante el uso de nombres de variables que están asociados con las entradas, como `*minutes` y `**fuel_reservoirs`:"
      ]
    },
    {
      "cell_type": "code",
      "execution_count": 45,
      "metadata": {},
      "outputs": [
        {
          "name": "stdout",
          "output_type": "stream",
          "text": [
            "Reporte_de_mision \n",
            "    Hora_de_prelanzamienot: 15 hrs\n",
            "    Destino: Mars\n",
            "    Tiempo_de_vuelo: 81 mins\n",
            "    Tanque_combustible: 300 %\n",
            "    \n"
          ]
        }
      ],
      "source": [
        "# Escribe tu nueva función de reporte considerando lo anterior\n",
        "def rep_mision(hora_prelanzamiento, destino, *tiempo_de_vuelo, **tanques):\n",
        "    return f\"\"\"Reporte_de_mision \n",
        "    Hora_de_prelanzamienot: {hora_prelanzamiento} hrs\n",
        "    Destino: {destino}\n",
        "    Tiempo_de_vuelo: {sum(tiempo_de_vuelo)} mins\n",
        "    Tanque_combustible: {sum(tanques.values())} %\n",
        "    \"\"\"\n",
        "print(rep_mision(15, \"Mars\", 13,23,45, tanque_A= 200, tanque_b=100))"
      ]
    },
    {
      "cell_type": "markdown",
      "metadata": {},
      "source": [
        "Debido a que el combustible que queda en los tanques es específico de cada tanque, actualiza la función para usar el nombre de cada tanque en el informe:"
      ]
    },
    {
      "cell_type": "code",
      "execution_count": 53,
      "metadata": {},
      "outputs": [
        {
          "name": "stdout",
          "output_type": "stream",
          "text": [
            "Reporte_de_mision \n",
            "    Hora_de_prelanzamienot: 15 hrs\n",
            "    Destino: Mars\n",
            "    Tiempo_de_vuelo: 81 mins\n",
            "    Tanque_combustible: 300 %\n",
            "    {'tanque_A': 200, 'tanque_b': 100} tanque --> 200 litros quedan\n",
            "{'tanque_A': 200, 'tanque_b': 100} tanque --> 100 litros quedan\n",
            "\n"
          ]
        }
      ],
      "source": [
        "# Escribe tu nueva función\n",
        "def rep_mision(hora_prelanzamiento, destino, *tiempo_de_vuelo, **tanques):\n",
        "    reporte = f\"\"\"Reporte_de_mision \n",
        "    Hora_de_prelanzamienot: {hora_prelanzamiento} hrs\n",
        "    Destino: {destino}\n",
        "    Tiempo_de_vuelo: {sum(tiempo_de_vuelo)} mins\n",
        "    Tanque_combustible: {sum(tanques.values())} %\n",
        "    \"\"\"\n",
        "    for tanque, litros in tanques.items():\n",
        "        reporte += f\"{tanques} tanque --> {litros} litros quedan\\n\"\n",
        "    return reporte \n",
        "print(rep_mision(15, \"Mars\", 13,23,45, tanque_A= 200, tanque_b=100))"
      ]
    }
  ],
  "metadata": {
    "interpreter": {
      "hash": "205095b8b86ea82a021a8fc2ffba2b3bc9f8d0be25999901963b225939f75778"
    },
    "kernelspec": {
      "display_name": "Python 3.8.10 64-bit ('tmp': conda)",
      "name": "python3"
    },
    "language_info": {
      "codemirror_mode": {
        "name": "ipython",
        "version": 3
      },
      "file_extension": ".py",
      "mimetype": "text/x-python",
      "name": "python",
      "nbconvert_exporter": "python",
      "pygments_lexer": "ipython3",
      "version": "3.10.2"
    },
    "nteract": {
      "version": "nteract-front-end@1.0.0"
    },
    "orig_nbformat": 4
  },
  "nbformat": 4,
  "nbformat_minor": 2
}
